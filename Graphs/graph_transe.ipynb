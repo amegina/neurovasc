{
 "cells": [
  {
   "cell_type": "markdown",
   "metadata": {},
   "source": [
    "# TransE Graph Model Training"
   ]
  },
  {
   "cell_type": "code",
   "execution_count": null,
   "metadata": {},
   "outputs": [],
   "source": [
    "import numpy as np\n",
    "import pandas as pd\n",
    "from pykeen.triples import TriplesFactory\n",
    "from pykeen.pipeline import pipeline\n",
    "from pykeen.predict import predict_target\n",
    "import joblib\n",
    "from sklearn.manifold import TSNE\n",
    "from itertools import cycle\n",
    "from sklearn.metrics import RocCurveDisplay, auc, roc_curve, accuracy_score, confusion_matrix, ConfusionMatrixDisplay, precision_score, recall_score, f1_score, roc_auc_score, classification_report\n",
    "from sklearn.preprocessing import LabelBinarizer\n",
    "from sklearn.decomposition import PCA\n",
    "import matplotlib.pyplot as plt\n",
    "from scipy.stats import mode\n",
    "from scipy.special import softmax"
   ]
  },
  {
   "cell_type": "code",
   "execution_count": null,
   "metadata": {},
   "outputs": [],
   "source": [
    "size_train = 8000\n",
    "y = joblib.load('./ouput.joblib')\n",
    "y_train = y[:size_train]\n",
    "y_test = y[size_train:]\n",
    "size_test = len(y_test)"
   ]
  },
  {
   "cell_type": "code",
   "execution_count": null,
   "metadata": {},
   "outputs": [],
   "source": [
    "pd.DataFrame(y).value_counts()"
   ]
  },
  {
   "cell_type": "code",
   "execution_count": null,
   "metadata": {},
   "outputs": [],
   "source": [
    "pd.DataFrame(y_train).value_counts()"
   ]
  },
  {
   "cell_type": "code",
   "execution_count": null,
   "metadata": {},
   "outputs": [],
   "source": [
    "pd.DataFrame(y_test).value_counts()"
   ]
  },
  {
   "cell_type": "code",
   "execution_count": null,
   "metadata": {},
   "outputs": [],
   "source": [
    "tf = TriplesFactory.from_path(\"syn_data_graph.xml\")"
   ]
  },
  {
   "cell_type": "code",
   "execution_count": null,
   "metadata": {},
   "outputs": [],
   "source": [
    "n_runs = 1\n",
    "epochs = 10\n",
    "\n",
    "y_pred = np.zeros((n_runs, len(y_test)))\n",
    "y_probs = np.zeros((n_runs, len(y_test), 3))\n",
    "log_loss = np.zeros((n_runs, epochs))\n",
    "hits = np.zeros((n_runs, 4))\n",
    "\n",
    "\n",
    "for run in range(n_runs):\n",
    "    model_name = 'TransE'\n",
    "    dataset = 'RIA'\n",
    "    embedding_dim = 5\n",
    "\n",
    "    result = pipeline(\n",
    "        model=model_name,       \n",
    "        training=tf,\n",
    "        testing=tf,     \n",
    "        model_kwargs=dict(\n",
    "            embedding_dim=embedding_dim,         \n",
    "            loss=\"softplus\", \n",
    "        ),  \n",
    "        optimizer_kwargs=dict(\n",
    "            lr=0.001,\n",
    "            weight_decay=1e-4,\n",
    "        ),  \n",
    "        training_kwargs=dict(\n",
    "            num_epochs=epochs, \n",
    "            use_tqdm_batch=True,\n",
    "        ),  \n",
    "        training_loop='sLCWA',\n",
    "        negative_sampler='basic',\n",
    "        device='gpu',\n",
    "        use_tqdm=True,   \n",
    "    )\n",
    "\n",
    "    #plot loss\n",
    "    loss_plot = result.plot_losses()\n",
    "    #loss_plot.figure.savefig(f'loss_{model_name}_{embedding_dim}_{epochs}_{time.strftime(\"%Y%m%d-%H%M%S\")}.png',dpi=600)\n",
    "\n",
    "    log_loss[run] = result.losses\n",
    "\n",
    "    preds = []\n",
    "    for i in range(len(y_test)):\n",
    "        pred = predict_target(\n",
    "                model=result.model,\n",
    "                head=f\"P{size_train + i}\",\n",
    "                relation=\"hasOutput\",\n",
    "                triples_factory=tf\n",
    "            )\n",
    "        preds += [pred]\n",
    "\n",
    "    y_pred[run] = np.array([\n",
    "        np.argmin(\n",
    "            [pred.df.reset_index(drop=True)['tail_label'][pred.df.reset_index(drop=True)['tail_label'] == output].index[0] for output in [\"Back2Home\", \"Reabilitation\", \"Death\"]]\n",
    "        )\n",
    "        for pred in preds\n",
    "        ])\n",
    "    \n",
    "    y_probs[run] = np.array([\n",
    "        softmax(\n",
    "            [pred.df.reset_index(drop=True)['score'][pred.df.reset_index(drop=True)['tail_label'] == output].iloc[0] for output in [\"Back2Home\", \"Reabilitation\", \"Death\"]]\n",
    "        )\n",
    "        for pred in preds\n",
    "        ])\n",
    "    \n",
    "    hits[run] = [\n",
    "        round(result.get_metric('hits_at_1'), 2),\n",
    "        round(result.get_metric('hits_at_3'), 2),\n",
    "        round(result.get_metric('hits_at_5'), 2),\n",
    "        round(result.get_metric('hits_at_10'), 2)\n",
    "    ]\n"
   ]
  },
  {
   "cell_type": "code",
   "execution_count": null,
   "metadata": {},
   "outputs": [],
   "source": [
    "y_pred = mode(y_pred, axis=0).mode\n",
    "y_score = np.mean(y_probs, axis=0)\n",
    "hits = np.mean(hits, axis=0)"
   ]
  },
  {
   "cell_type": "code",
   "execution_count": null,
   "metadata": {},
   "outputs": [],
   "source": [
    "preds[0]"
   ]
  },
  {
   "cell_type": "code",
   "execution_count": null,
   "metadata": {},
   "outputs": [],
   "source": [
    "print(\"EVALUATION\")\n",
    "print(\"Hits@1\", round(hits[0], 2))\n",
    "print(\"Hits@3\", round(hits[1], 2))\n",
    "print(\"Hits@5\", round(hits[2], 2))\n",
    "print(\"Hits@10\", round(hits[3], 2))"
   ]
  },
  {
   "cell_type": "code",
   "execution_count": null,
   "metadata": {},
   "outputs": [],
   "source": [
    "matrix = confusion_matrix(y_test, y_pred)\n",
    "disp = ConfusionMatrixDisplay(confusion_matrix=matrix, display_labels=[\"Back2Home\", \"Reabilitation\", \"Death\"])\n",
    "disp.plot()\n",
    "plt.show()"
   ]
  },
  {
   "cell_type": "code",
   "execution_count": null,
   "metadata": {},
   "outputs": [],
   "source": [
    "matrix"
   ]
  },
  {
   "cell_type": "code",
   "execution_count": null,
   "metadata": {},
   "outputs": [],
   "source": [
    "print(classification_report(y_test, y_pred, target_names=[\"Back2Home\", \"Reabilitation\", \"Death\"]))"
   ]
  },
  {
   "cell_type": "code",
   "execution_count": null,
   "metadata": {},
   "outputs": [],
   "source": [
    "auc = round(roc_auc_score(y_test, y_score, multi_class='ovr'), 2)\n",
    "print(\"AUC ROC:\", auc)"
   ]
  },
  {
   "cell_type": "code",
   "execution_count": null,
   "metadata": {},
   "outputs": [],
   "source": [
    "model = result.model\n",
    "\n",
    "entity_embedding_tensor = model.entity_representations[0](indices=None).cpu()\n",
    "relation_embedding_tensor = model.relation_representations[0](indices=None).cpu()"
   ]
  },
  {
   "cell_type": "code",
   "execution_count": null,
   "metadata": {},
   "outputs": [],
   "source": [
    "colors = [['g', 'b', 'r'][i] for i in y_train]\n",
    "labels = [i for i in y_train]\n",
    "patients_names = [f\"P{i}\" for i in range(size_train)]\n",
    "train_pos = entity_embedding_tensor[tf.entities_to_ids(patients_names)]\n",
    "train_pos = train_pos.detach().numpy()"
   ]
  },
  {
   "cell_type": "code",
   "execution_count": null,
   "metadata": {},
   "outputs": [],
   "source": [
    "out_colors = ['g', 'b', 'r']\n",
    "outcomes_names = [\"Back2Home\", \"Reabilitation\", \"Death\"]\n",
    "out_pos = entity_embedding_tensor[tf.entities_to_ids(outcomes_names)]\n",
    "out_pos = out_pos.detach().numpy()"
   ]
  },
  {
   "cell_type": "code",
   "execution_count": null,
   "metadata": {},
   "outputs": [],
   "source": [
    "pca = PCA(n_components=2)\n",
    "train_pos = pca.fit_transform(train_pos)\n",
    "out_pos = pca.transform(out_pos)"
   ]
  },
  {
   "cell_type": "code",
   "execution_count": null,
   "metadata": {},
   "outputs": [],
   "source": [
    "print(f\"{round(sum(pca.explained_variance_), 2)}% variance explained\")"
   ]
  },
  {
   "cell_type": "code",
   "execution_count": null,
   "metadata": {},
   "outputs": [],
   "source": [
    "relation_names = [\"hasOutput\", \"output\"]\n",
    "rel_pos = relation_embedding_tensor[tf.relations_to_ids(relation_names)]\n",
    "rel_pos = rel_pos.detach().numpy()\n",
    "origin = np.array([[0] * 2, [0] * 2])"
   ]
  },
  {
   "cell_type": "code",
   "execution_count": null,
   "metadata": {},
   "outputs": [],
   "source": [
    "plt.scatter(train_pos[:,0], train_pos[:,1], c=colors)\n",
    "plt.scatter(out_pos[:,0], out_pos[:,1], s=200, marker='X', edgecolors=out_colors, facecolors=['w'] * len(out_colors))\n",
    "plt.quiver(*origin, arrows[0, :], arrows[1, :], angles='xy', scale_units='xy', scale=1, color=['black', 'black'])\n",
    "\n",
    "plt.scatter([], [], marker='X', edgecolors='g', facecolors=['w'], label='Back2Home')\n",
    "plt.scatter([], [], marker='X', edgecolors='b', facecolors=['w'], label='Reabilitation')\n",
    "plt.scatter([], [], marker='X', edgecolors='r', facecolors=['w'], label='Death')\n",
    "plt.scatter([], [], color='black', label='hasOutput', marker='^')\n",
    "\n",
    "plt.legend(loc='lower right')\n",
    "plt.show()"
   ]
  },
  {
   "cell_type": "code",
   "execution_count": null,
   "metadata": {},
   "outputs": [],
   "source": [
    "train_pos = entity_embedding_tensor[tf.entities_to_ids(patients_names)]\n",
    "train_pos = train_pos.detach().numpy()\n",
    "\n",
    "out_pos = entity_embedding_tensor[tf.entities_to_ids(outcomes_names)]\n",
    "out_pos = out_pos.detach().numpy()\n",
    "\n",
    "rel_pos = relation_embedding_tensor[tf.relations_to_ids(relation_names)]\n",
    "rel_pos = rel_pos.detach().numpy()"
   ]
  },
  {
   "cell_type": "code",
   "execution_count": null,
   "metadata": {},
   "outputs": [],
   "source": [
    "points = np.concatenate((train_pos, out_pos, rel_pos))\n",
    "tsne = TSNE(n_components=2)\n",
    "points_tsne = tsne.fit_transform(points)"
   ]
  },
  {
   "cell_type": "code",
   "execution_count": null,
   "metadata": {},
   "outputs": [],
   "source": [
    "plt.scatter(points_tsne[:-5,0], points_tsne[:-5,1], c=colors)\n",
    "plt.scatter(points_tsne[-5:-2,0], points_tsne[-5:-2,1], s=200, marker='X', edgecolors=out_colors, facecolors=['w'] * len(out_colors))\n",
    "plt.quiver(*origin, points_tsne[-2:,0], points_tsne[-2:,1], scale=100, color=['b', 'r'])\n",
    "plt.show()"
   ]
  },
  {
   "cell_type": "code",
   "execution_count": null,
   "metadata": {},
   "outputs": [],
   "source": [
    "label_binarizer = LabelBinarizer().fit(y_train)\n",
    "y_onehot_test = label_binarizer.transform(y_test)\n",
    "y_onehot_test.shape "
   ]
  },
  {
   "cell_type": "code",
   "execution_count": null,
   "metadata": {},
   "outputs": [],
   "source": [
    "# store the fpr, tpr, and roc_auc for all averaging strategies\n",
    "fpr, tpr, roc_auc = dict(), dict(), dict()\n",
    "# Compute micro-average ROC curve and ROC area\n",
    "fpr[\"micro\"], tpr[\"micro\"], _ = roc_curve(y_onehot_test.ravel(), y_score.ravel())\n",
    "roc_auc[\"micro\"] = auc(fpr[\"micro\"], tpr[\"micro\"])\n",
    "\n",
    "print(f\"Micro-averaged One-vs-Rest ROC AUC score:\\n{roc_auc['micro']:.2f}\")"
   ]
  },
  {
   "cell_type": "code",
   "execution_count": null,
   "metadata": {},
   "outputs": [],
   "source": [
    "n_classes = 3\n",
    "\n",
    "for i in range(n_classes):\n",
    "    fpr[i], tpr[i], _ = roc_curve(y_onehot_test[:, i], y_score[:, i])\n",
    "    roc_auc[i] = auc(fpr[i], tpr[i])\n",
    "\n",
    "fpr_grid = np.linspace(0.0, 1.0, 1000)\n",
    "\n",
    "# Interpolate all ROC curves at these points\n",
    "mean_tpr = np.zeros_like(fpr_grid)\n",
    "\n",
    "for i in range(n_classes):\n",
    "    mean_tpr += np.interp(fpr_grid, fpr[i], tpr[i])  # linear interpolation\n",
    "\n",
    "# Average it and compute AUC\n",
    "mean_tpr /= n_classes\n",
    "\n",
    "fpr[\"macro\"] = fpr_grid\n",
    "tpr[\"macro\"] = mean_tpr\n",
    "roc_auc[\"macro\"] = auc(fpr[\"macro\"], tpr[\"macro\"])\n",
    "\n",
    "print(f\"Macro-averaged One-vs-Rest ROC AUC score:\\n{roc_auc['macro']:.2f}\")"
   ]
  },
  {
   "cell_type": "code",
   "execution_count": null,
   "metadata": {},
   "outputs": [],
   "source": [
    "class_weights = [0.443396, 0.432075, 0.124529]\n",
    "\n",
    "# Compute ROC curve and ROC area for each class with sample weights\n",
    "for i in range(n_classes):\n",
    "    sample_weight = np.ones(y_onehot_test.shape[0]) * class_weights[i]\n",
    "    fpr[i], tpr[i], _ = roc_curve(y_onehot_test[:, i], y_score[:, i], sample_weight=sample_weight)\n",
    "    roc_auc[i] = auc(fpr[i], tpr[i])\n",
    "\n",
    "# Interpolation grid\n",
    "fpr_grid = np.linspace(0.0, 1.0, 1000)\n",
    "\n",
    "# Interpolate all ROC curves at these points\n",
    "weighted_mean_tpr = np.zeros_like(fpr_grid)\n",
    "\n",
    "for i in range(n_classes):\n",
    "    interp_tpr = np.interp(fpr_grid, fpr[i], tpr[i])  # linear interpolation\n",
    "    weighted_mean_tpr += class_weights[i] * interp_tpr\n",
    "\n",
    "# Compute AUC for the weighted macro-average\n",
    "fpr[\"weighted_macro\"] = fpr_grid\n",
    "tpr[\"weighted_macro\"] = weighted_mean_tpr\n",
    "roc_auc[\"weighted_macro\"] = auc(fpr[\"weighted_macro\"], tpr[\"weighted_macro\"])\n",
    "\n",
    "print(f\"Weighted Macro-averaged One-vs-Rest ROC AUC score:\\n{roc_auc['weighted_macro']:.2f}\")\n"
   ]
  },
  {
   "cell_type": "code",
   "execution_count": null,
   "metadata": {},
   "outputs": [],
   "source": [
    "fig, ax = plt.subplots(figsize=(6, 6))\n",
    "\n",
    "target_names = [\"Back2Home\", \"Reabilitation\", \"Death\"]\n",
    "\n",
    "plt.plot(\n",
    "    fpr[\"micro\"],\n",
    "    tpr[\"micro\"],\n",
    "    label=f\"micro-average (AUC = {roc_auc['micro']:.2f})\",\n",
    "    color=\"green\",\n",
    "    linestyle=\":\",\n",
    "    linewidth=4,\n",
    ")\n",
    "\n",
    "plt.plot(\n",
    "    fpr[\"macro\"],\n",
    "    tpr[\"macro\"],\n",
    "    label=f\"macro-average (AUC = {roc_auc['macro']:.2f})\",\n",
    "    color=\"navy\",\n",
    "    linestyle=\":\",\n",
    "    linewidth=4,\n",
    ")\n",
    "\n",
    "plt.plot(\n",
    "    fpr[\"weighted_macro\"],\n",
    "    tpr[\"weighted_macro\"],\n",
    "    label=f\"weighted-average (AUC = {roc_auc['weighted_macro']:.2f})\",\n",
    "    color=\"deeppink\",\n",
    "    linestyle=\":\",\n",
    "    linewidth=4,\n",
    ")\n",
    "\n",
    "colors = cycle([\"aqua\", \"darkorange\", \"cornflowerblue\"])\n",
    "for class_id, color in zip(range(n_classes), colors):\n",
    "    RocCurveDisplay.from_predictions(\n",
    "        y_onehot_test[:, class_id],\n",
    "        y_score[:, class_id],\n",
    "        name=f\"{target_names[class_id]}\",\n",
    "        color=color,\n",
    "        ax=ax,\n",
    "        plot_chance_level=(class_id == 2),\n",
    "    )\n",
    "\n",
    "_ = ax.set(\n",
    "    xlabel=\"False Positive Rate\",\n",
    "    ylabel=\"True Positive Rate\",\n",
    "    title=\"Extension of Receiver Operating Characteristic\\nto One-vs-Rest multiclass\",\n",
    ")\n",
    "\n",
    "#ax.grid(False)\n",
    "#ax.set_facecolor('white')\n",
    "\n",
    "plt.savefig(\"ROC_quadruples4.png\")"
   ]
  },
  {
   "cell_type": "code",
   "execution_count": null,
   "metadata": {},
   "outputs": [],
   "source": [
    "colors = [['g', 'r', 'b'][i] for i in y_test]\n",
    "labels = [i for i in y_train]\n",
    "patients_names = [f\"P{size_train + i}\" for i in range(size_test)]\n",
    "train_pos = entity_embedding_tensor[tf.entities_to_ids(patients_names)]\n",
    "train_pos = train_pos.detach().numpy()"
   ]
  },
  {
   "cell_type": "code",
   "execution_count": null,
   "metadata": {},
   "outputs": [],
   "source": [
    "out_colors = ['g', 'r', 'b']\n",
    "outcomes_names = [\"Back2Home\", \"Reabilitation\", \"Death\"]\n",
    "out_pos = entity_embedding_tensor[tf.entities_to_ids(outcomes_names)]\n",
    "out_pos = out_pos.detach().numpy()"
   ]
  },
  {
   "cell_type": "code",
   "execution_count": null,
   "metadata": {},
   "outputs": [],
   "source": [
    "train_pos = entity_embedding_tensor[tf.entities_to_ids(patients_names)]\n",
    "train_pos = train_pos.detach().numpy()\n",
    "\n",
    "out_pos = entity_embedding_tensor[tf.entities_to_ids(outcomes_names)]\n",
    "out_pos = out_pos.detach().numpy()\n",
    "\n",
    "rel_pos = relation_embedding_tensor[tf.relations_to_ids(relation_names)]\n",
    "rel_pos = rel_pos.detach().numpy()"
   ]
  },
  {
   "cell_type": "code",
   "execution_count": null,
   "metadata": {},
   "outputs": [],
   "source": [
    "points = np.concatenate((train_pos, out_pos, rel_pos))\n",
    "tsne = TSNE(n_components=2)\n",
    "points_tsne = tsne.fit_transform(points)"
   ]
  },
  {
   "cell_type": "code",
   "execution_count": null,
   "metadata": {},
   "outputs": [],
   "source": [
    "plt.scatter(points_tsne[:-5,0], points_tsne[:-5,1], c=colors)\n",
    "plt.scatter(points_tsne[-5:-2,0], points_tsne[-5:-2,1], s=200, marker='X', edgecolors=out_colors, facecolors=['w'] * len(out_colors))\n",
    "plt.quiver(*origin, points_tsne[-2:,0], points_tsne[-2:,1], scale=100, color=['b', 'r'])\n",
    "plt.show()"
   ]
  },
  {
   "cell_type": "code",
   "execution_count": null,
   "metadata": {},
   "outputs": [],
   "source": []
  }
 ],
 "metadata": {
  "kernelspec": {
   "display_name": "Python 3",
   "language": "python",
   "name": "python3"
  },
  "language_info": {
   "codemirror_mode": {
    "name": "ipython",
    "version": 3
   },
   "file_extension": ".py",
   "mimetype": "text/x-python",
   "name": "python",
   "nbconvert_exporter": "python",
   "pygments_lexer": "ipython3",
   "version": "3.10.12"
  }
 },
 "nbformat": 4,
 "nbformat_minor": 2
}
